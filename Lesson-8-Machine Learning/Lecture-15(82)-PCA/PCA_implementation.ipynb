{
 "cells": [
  {
   "cell_type": "code",
   "execution_count": 1,
   "id": "ca1c82fc",
   "metadata": {},
   "outputs": [],
   "source": [
    "#Importing the required libraries\n",
    "\n",
    "import pandas as pd\n",
    "import numpy as np\n",
    "import matplotlib.pyplot as plt\n",
    "#linalg represents linear algebra which is present in both scipy and numpy\n",
    "#eig represents Eigen method that can be used for the generation of Eigne value and Eigen Vector\n",
    "from scipy.linalg import eig \n",
    "from numpy.linalg import eig"
   ]
  },
  {
   "cell_type": "code",
   "execution_count": 3,
   "id": "e5a61cd5",
   "metadata": {},
   "outputs": [],
   "source": [
    "#Creating a 2D array for implementation purpose\n",
    "\n",
    "data=np.array([[3,4],[2,8],[6,9],[10,12]])"
   ]
  },
  {
   "cell_type": "code",
   "execution_count": 4,
   "id": "152fd4bd",
   "metadata": {},
   "outputs": [
    {
     "data": {
      "text/plain": [
       "array([[ 3,  4],\n",
       "       [ 2,  8],\n",
       "       [ 6,  9],\n",
       "       [10, 12]])"
      ]
     },
     "execution_count": 4,
     "metadata": {},
     "output_type": "execute_result"
    }
   ],
   "source": [
    "#Displaying the Input data\n",
    "\n",
    "data"
   ]
  },
  {
   "cell_type": "code",
   "execution_count": 7,
   "id": "ab6b83b2",
   "metadata": {},
   "outputs": [],
   "source": [
    "#Converting data into data frame with column name \"Math\" and \"Bio\"\n",
    "\n",
    "df=pd.DataFrame(data,columns=[\"Math\",\"Bio\"])"
   ]
  },
  {
   "cell_type": "code",
   "execution_count": 8,
   "id": "cc7f36e5",
   "metadata": {},
   "outputs": [
    {
     "data": {
      "text/html": [
       "<div>\n",
       "<style scoped>\n",
       "    .dataframe tbody tr th:only-of-type {\n",
       "        vertical-align: middle;\n",
       "    }\n",
       "\n",
       "    .dataframe tbody tr th {\n",
       "        vertical-align: top;\n",
       "    }\n",
       "\n",
       "    .dataframe thead th {\n",
       "        text-align: right;\n",
       "    }\n",
       "</style>\n",
       "<table border=\"1\" class=\"dataframe\">\n",
       "  <thead>\n",
       "    <tr style=\"text-align: right;\">\n",
       "      <th></th>\n",
       "      <th>Math</th>\n",
       "      <th>Bio</th>\n",
       "    </tr>\n",
       "  </thead>\n",
       "  <tbody>\n",
       "    <tr>\n",
       "      <th>0</th>\n",
       "      <td>3</td>\n",
       "      <td>4</td>\n",
       "    </tr>\n",
       "    <tr>\n",
       "      <th>1</th>\n",
       "      <td>2</td>\n",
       "      <td>8</td>\n",
       "    </tr>\n",
       "    <tr>\n",
       "      <th>2</th>\n",
       "      <td>6</td>\n",
       "      <td>9</td>\n",
       "    </tr>\n",
       "    <tr>\n",
       "      <th>3</th>\n",
       "      <td>10</td>\n",
       "      <td>12</td>\n",
       "    </tr>\n",
       "  </tbody>\n",
       "</table>\n",
       "</div>"
      ],
      "text/plain": [
       "   Math  Bio\n",
       "0     3    4\n",
       "1     2    8\n",
       "2     6    9\n",
       "3    10   12"
      ]
     },
     "execution_count": 8,
     "metadata": {},
     "output_type": "execute_result"
    }
   ],
   "source": [
    "#Displaying the transformed data frame\n",
    "\n",
    "df"
   ]
  },
  {
   "cell_type": "code",
   "execution_count": 9,
   "id": "a30df224",
   "metadata": {},
   "outputs": [
    {
     "data": {
      "text/plain": [
       "<matplotlib.collections.PathCollection at 0x16954d7b5e0>"
      ]
     },
     "execution_count": 9,
     "metadata": {},
     "output_type": "execute_result"
    },
    {
     "data": {
      "image/png": "[encoded data removed]",
      "text/plain": [
       "<Figure size 432x288 with 1 Axes>"
      ]
     },
     "metadata": {
      "needs_background": "light"
     },
     "output_type": "display_data"
    }
   ],
   "source": [
    "#Visualizing the dataset using scatter plot\n",
    "\n",
    "plt.scatter(df[\"Math\"],df[\"Bio\"])"
   ]
  },
  {
   "cell_type": "code",
   "execution_count": null,
   "id": "2b1f1dd6",
   "metadata": {},
   "outputs": [],
   "source": [
    "#Steps to find the PCA (Principal Component)\n",
    "\n",
    "1. stadarization of the data\n",
    "2. find cov matrix from the data\n",
    "3. eig value and eig vector\n",
    "4. find the principle component"
   ]
  },
  {
   "cell_type": "markdown",
   "id": "19776a40",
   "metadata": {},
   "source": [
    "# Step 1 = Standardizing the dataset"
   ]
  },
  {
   "cell_type": "code",
   "execution_count": 12,
   "id": "47405e45",
   "metadata": {},
   "outputs": [
    {
     "data": {
      "text/plain": [
       "array([[ 3,  4],\n",
       "       [ 2,  8],\n",
       "       [ 6,  9],\n",
       "       [10, 12]])"
      ]
     },
     "execution_count": 12,
     "metadata": {},
     "output_type": "execute_result"
    }
   ],
   "source": [
    "data"
   ]
  },
  {
   "cell_type": "code",
   "execution_count": 13,
   "id": "aa752b50",
   "metadata": {},
   "outputs": [
    {
     "data": {
      "text/plain": [
       "5.25"
      ]
     },
     "execution_count": 13,
     "metadata": {},
     "output_type": "execute_result"
    }
   ],
   "source": [
    "#Standardization manually without using any pre defined library like StandardScaler()\n",
    "\n",
    "(3+2+6+10)/4    #Average of first column"
   ]
  },
  {
   "cell_type": "code",
   "execution_count": 14,
   "id": "691d8173",
   "metadata": {},
   "outputs": [
    {
     "data": {
      "text/plain": [
       "8.25"
      ]
     },
     "execution_count": 14,
     "metadata": {},
     "output_type": "execute_result"
    }
   ],
   "source": [
    "(4+8+9+12)/4    #Average of second column"
   ]
  },
  {
   "cell_type": "code",
   "execution_count": 10,
   "id": "5021936e",
   "metadata": {},
   "outputs": [],
   "source": [
    "#Calculating the meana down the each column\n",
    "\n",
    "meanbycol=np.mean(data,axis=0)"
   ]
  },
  {
   "cell_type": "code",
   "execution_count": 11,
   "id": "870d6f95",
   "metadata": {},
   "outputs": [
    {
     "data": {
      "text/plain": [
       "array([5.25, 8.25])"
      ]
     },
     "execution_count": 11,
     "metadata": {},
     "output_type": "execute_result"
    }
   ],
   "source": [
    "#Displaying the calculated mean\n",
    "\n",
    "meanbycol"
   ]
  },
  {
   "cell_type": "code",
   "execution_count": null,
   "id": "022d8d44",
   "metadata": {},
   "outputs": [],
   "source": [
    "# Next we will calculate the difference of mean and data = data - mean"
   ]
  },
  {
   "cell_type": "code",
   "execution_count": 16,
   "id": "d62108b4",
   "metadata": {},
   "outputs": [],
   "source": [
    "scaled_data=data-meanbycol"
   ]
  },
  {
   "cell_type": "code",
   "execution_count": 17,
   "id": "85776d48",
   "metadata": {},
   "outputs": [
    {
     "data": {
      "text/plain": [
       "array([[-2.25, -4.25],\n",
       "       [-3.25, -0.25],\n",
       "       [ 0.75,  0.75],\n",
       "       [ 4.75,  3.75]])"
      ]
     },
     "execution_count": 17,
     "metadata": {},
     "output_type": "execute_result"
    }
   ],
   "source": [
    "scaled_data    #Difference of data and mean"
   ]
  },
  {
   "cell_type": "code",
   "execution_count": 23,
   "id": "25ba79a1",
   "metadata": {},
   "outputs": [],
   "source": [
    "stdbycol=np.std(data,axis=0)   #Applying the standard deviation on the different of data and mean"
   ]
  },
  {
   "cell_type": "code",
   "execution_count": 25,
   "id": "7a583db3",
   "metadata": {},
   "outputs": [],
   "source": [
    "#Dividing the scaled_data representing the difference of data and mean with standard deviation of data.\n",
    "#This will give the standarized dataset or target scalled dataset that can be taken forward\n",
    "\n",
    "scaled_data=scaled_data/stdbycol"
   ]
  },
  {
   "cell_type": "code",
   "execution_count": 26,
   "id": "d07a9e6f",
   "metadata": {},
   "outputs": [
    {
     "data": {
      "text/plain": [
       "array([[-0.7228974 , -1.4852969 ],\n",
       "       [-1.04418513, -0.08737041],\n",
       "       [ 0.2409658 ,  0.26211122],\n",
       "       [ 1.52611672,  1.31055608]])"
      ]
     },
     "execution_count": 26,
     "metadata": {},
     "output_type": "execute_result"
    }
   ],
   "source": [
    "scaled_data  #Displaying the final scalled dataset"
   ]
  },
  {
   "cell_type": "code",
   "execution_count": 22,
   "id": "78f2fb4c",
   "metadata": {},
   "outputs": [
    {
     "data": {
      "text/plain": [
       "array([[-0.7228974 , -1.4852969 ],\n",
       "       [-1.04418513, -0.08737041],\n",
       "       [ 0.2409658 ,  0.26211122],\n",
       "       [ 1.52611672,  1.31055608]])"
      ]
     },
     "execution_count": 22,
     "metadata": {},
     "output_type": "execute_result"
    }
   ],
   "source": [
    "#Generation of scalled dataset can be also done directly using StandardScaler\n",
    "\n",
    "from sklearn.preprocessing import StandardScaler\n",
    "\n",
    "st = StandardScaler()\n",
    "st.fit_transform(df)\n",
    "#Observe the scalled data that we are getting by applying StandardScaler() method. This proves that\n",
    "#Scalled dataset produced by applying StandardScaler() and when generated manually(using difference of\n",
    "#data and mean followed by division with standard deviation) will generate the same results."
   ]
  },
  {
   "cell_type": "code",
   "execution_count": 27,
   "id": "d3784464",
   "metadata": {},
   "outputs": [
    {
     "data": {
      "text/plain": [
       "array([[-0.7228974 , -1.04418513,  0.2409658 ,  1.52611672],\n",
       "       [-1.4852969 , -0.08737041,  0.26211122,  1.31055608]])"
      ]
     },
     "execution_count": 27,
     "metadata": {},
     "output_type": "execute_result"
    }
   ],
   "source": [
    "#For the calculation of covariance Eigen Vector and all further calculation we would need to take the \n",
    "#transpose of the resultant scaled dataset\n",
    "\n",
    "scaled_data.T"
   ]
  },
  {
   "cell_type": "markdown",
   "id": "03db30cc",
   "metadata": {},
   "source": [
    "# Step 2 = Finding the covariance matrix"
   ]
  },
  {
   "cell_type": "code",
   "execution_count": 31,
   "id": "1824113e",
   "metadata": {},
   "outputs": [],
   "source": [
    "cov_mat=np.cov(scaled_data.T)  #using np.cov() to generate the covariance matrix"
   ]
  },
  {
   "cell_type": "code",
   "execution_count": 32,
   "id": "c51e61a9",
   "metadata": {},
   "outputs": [
    {
     "data": {
      "text/plain": [
       "array([[1.33333333, 1.07605651],\n",
       "       [1.07605651, 1.33333333]])"
      ]
     },
     "execution_count": 32,
     "metadata": {},
     "output_type": "execute_result"
    }
   ],
   "source": [
    "cov_mat  #Displaying the covariance matrix\n",
    "\n",
    "#Please note that since we have taken input dataset consisting of 2 features so that is the reason why\n",
    "#we are getting the covariance matrix with dimension 2. Also Covariance matrix is a square matrix"
   ]
  },
  {
   "cell_type": "markdown",
   "id": "87fc107f",
   "metadata": {},
   "source": [
    "# Step 3 = Finding the Eigen Value and Eigen Vector"
   ]
  },
  {
   "cell_type": "code",
   "execution_count": 35,
   "id": "91a90d11",
   "metadata": {},
   "outputs": [],
   "source": [
    "eig_value,eig_vector=eig(cov_mat) #Using eig() imported from scipy.linalg or numpy.linalg"
   ]
  },
  {
   "cell_type": "code",
   "execution_count": 36,
   "id": "39aaac6a",
   "metadata": {},
   "outputs": [
    {
     "data": {
      "text/plain": [
       "array([[ 0.70710678, -0.70710678],\n",
       "       [ 0.70710678,  0.70710678]])"
      ]
     },
     "execution_count": 36,
     "metadata": {},
     "output_type": "execute_result"
    }
   ],
   "source": [
    "eig_vector  #Displaying the Eigen Vector.\n",
    "\n",
    "#Important please note that below we get 2D array, where first array=[0.70710678, -0.70710678]\n",
    "#represents Eigen vector(note that vector have 1 column and multiple rows) whereas, second array\n",
    "#represents the Eigen value\n",
    "\n",
    "#Also note that number of elements in eigen vector=number of elements in eigen values=no. i/p feature"
   ]
  },
  {
   "cell_type": "markdown",
   "id": "fa76ad65",
   "metadata": {},
   "source": [
    "# Step 4 = Finding the Pricipal Component"
   ]
  },
  {
   "cell_type": "code",
   "execution_count": 34,
   "id": "cf063914",
   "metadata": {},
   "outputs": [
    {
     "data": {
      "text/plain": [
       "array([[-0.7228974 , -1.4852969 ],\n",
       "       [-1.04418513, -0.08737041],\n",
       "       [ 0.2409658 ,  0.26211122],\n",
       "       [ 1.52611672,  1.31055608]])"
      ]
     },
     "execution_count": 34,
     "metadata": {},
     "output_type": "execute_result"
    }
   ],
   "source": [
    "scaled_data"
   ]
  },
  {
   "cell_type": "code",
   "execution_count": 41,
   "id": "3e2aadd4",
   "metadata": {},
   "outputs": [
    {
     "data": {
      "text/plain": [
       "array([[-1.56142916, -0.53909786],\n",
       "       [-0.80013059,  0.67657018],\n",
       "       [ 0.35572917,  0.01495207],\n",
       "       [ 2.00583058, -0.15242439]])"
      ]
     },
     "execution_count": 41,
     "metadata": {},
     "output_type": "execute_result"
    }
   ],
   "source": [
    "#Here we are manually calculating the Principal Component by multipying the eigen vector with the\n",
    "#scaled dataset. Observe below that for the calculation purpose we have \n",
    "#  -> first taken transpose of eig_vector\n",
    "#  -> taken transpose of scaled_data\n",
    "#  -> taken dot product of above two\n",
    "#  -> and finally we are transposing the resultant of all the above\n",
    "\n",
    "eig_vector.T.dot(scaled_data.T).T\n",
    "\n",
    "#Below 1st column represents the 1st principal component whereas, 2nd column represents the second\n",
    "#principal component. \n",
    "\n",
    "#This implies that total number of Principal components will be equivalent to the no. of features \n",
    "#in the input scaled dateset"
   ]
  },
  {
   "cell_type": "code",
   "execution_count": 40,
   "id": "ba27572a",
   "metadata": {},
   "outputs": [],
   "source": [
    "#Above we have manully calculated Principal component by first finding out the covariance matrix and\n",
    "#then using it to find out the eigen vector.\n",
    "\n",
    "#Alternatively, we may import PCA from sklearn.decomposition and use it for finding the principal\n",
    "#components\n",
    "\n",
    "from sklearn.decomposition import PCA\n",
    "pca=PCA()"
   ]
  },
  {
   "cell_type": "code",
   "execution_count": 42,
   "id": "0e7eddc7",
   "metadata": {},
   "outputs": [
    {
     "data": {
      "text/plain": [
       "array([[-1.56142916, -0.53909786],\n",
       "       [-0.80013059,  0.67657018],\n",
       "       [ 0.35572917,  0.01495207],\n",
       "       [ 2.00583058, -0.15242439]])"
      ]
     },
     "execution_count": 42,
     "metadata": {},
     "output_type": "execute_result"
    }
   ],
   "source": [
    "pca.fit_transform(scaled_data)  #Note that here we just passed the scalled dataset and this pca object\n",
    "                              #has internally calculated the cov and eigen vector using which have\n",
    "                              #generated the resultant principal component axis down the each column\n",
    "        \n",
    "        \n",
    "#Also, please observer PCA calculated here is equivalent to PCA calculted above manually."
   ]
  },
  {
   "cell_type": "code",
   "execution_count": 44,
   "id": "02454cbc",
   "metadata": {},
   "outputs": [
    {
     "data": {
      "text/html": [
       "<div>\n",
       "<style scoped>\n",
       "    .dataframe tbody tr th:only-of-type {\n",
       "        vertical-align: middle;\n",
       "    }\n",
       "\n",
       "    .dataframe tbody tr th {\n",
       "        vertical-align: top;\n",
       "    }\n",
       "\n",
       "    .dataframe thead th {\n",
       "        text-align: right;\n",
       "    }\n",
       "</style>\n",
       "<table border=\"1\" class=\"dataframe\">\n",
       "  <thead>\n",
       "    <tr style=\"text-align: right;\">\n",
       "      <th></th>\n",
       "      <th>PC1</th>\n",
       "      <th>PC2</th>\n",
       "    </tr>\n",
       "  </thead>\n",
       "  <tbody>\n",
       "    <tr>\n",
       "      <th>0</th>\n",
       "      <td>-1.561429</td>\n",
       "      <td>-0.539098</td>\n",
       "    </tr>\n",
       "    <tr>\n",
       "      <th>1</th>\n",
       "      <td>-0.800131</td>\n",
       "      <td>0.676570</td>\n",
       "    </tr>\n",
       "    <tr>\n",
       "      <th>2</th>\n",
       "      <td>0.355729</td>\n",
       "      <td>0.014952</td>\n",
       "    </tr>\n",
       "    <tr>\n",
       "      <th>3</th>\n",
       "      <td>2.005831</td>\n",
       "      <td>-0.152424</td>\n",
       "    </tr>\n",
       "  </tbody>\n",
       "</table>\n",
       "</div>"
      ],
      "text/plain": [
       "        PC1       PC2\n",
       "0 -1.561429 -0.539098\n",
       "1 -0.800131  0.676570\n",
       "2  0.355729  0.014952\n",
       "3  2.005831 -0.152424"
      ]
     },
     "execution_count": 44,
     "metadata": {},
     "output_type": "execute_result"
    }
   ],
   "source": [
    "#Converting PCA into df and renaming to PC1 and PC2 representing the 1st Principal Component and\n",
    "#2nd Principal Component\n",
    "\n",
    "pd.DataFrame(data=pca.fit_transform(scaled_data),columns=[\"PC1\",\"PC2\"])"
   ]
  },
  {
   "cell_type": "markdown",
   "id": "90d0fc05",
   "metadata": {},
   "source": [
    "# 1. PC1 represents the higher spread of data for 2 input features\n",
    "# 2. Whereas, PC2 represents the lower spread of data for 2 input features\n",
    "# 3. We will select PC1 since it contains more information in terms of spread of data\n",
    "# 4. Note: PCA will be used always over the numeric column"
   ]
  },
  {
   "cell_type": "code",
   "execution_count": 48,
   "id": "914d5f23",
   "metadata": {},
   "outputs": [
    {
     "data": {
      "text/plain": [
       "array([0.90352119, 0.09647881])"
      ]
     },
     "execution_count": 48,
     "metadata": {},
     "output_type": "execute_result"
    }
   ],
   "source": [
    "pca.explained_variance_ratio_\n",
    "#here we are using explained_variance_ratio_ to generate the spread of data obtained through each of\n",
    "#the principal components.\n",
    "\n",
    "#Explained variance ratio for PC1 is 0.90352119 signifying that it consists of 90.35% of data\n",
    "#distribution.\n",
    "\n",
    "#Explained variance ratio for PC2 is 0.09647881 signifying that it consists of only 9.64% of data\n",
    "#distribution. Therefore, PC2 should be droped and PC1 should be preferred over PC2."
   ]
  },
  {
   "cell_type": "code",
   "execution_count": 47,
   "id": "95bc8a05",
   "metadata": {},
   "outputs": [
    {
     "data": {
      "text/plain": [
       "1.0"
      ]
     },
     "execution_count": 47,
     "metadata": {},
     "output_type": "execute_result"
    }
   ],
   "source": [
    "sum(pca.explained_variance_ratio_)\n",
    "\n",
    "#When taken sum for all the explained_variance_ratio_ then it will be equivalent to 1 representing\n",
    "#coverage of 100% data distribution"
   ]
  },
  {
   "cell_type": "markdown",
   "id": "dd4a7fb6",
   "metadata": {},
   "source": [
    "# Perforing PCA over wine dataset"
   ]
  },
  {
   "cell_type": "code",
   "execution_count": 49,
   "id": "ad082fcb",
   "metadata": {},
   "outputs": [],
   "source": [
    "df=pd.read_csv(\"https://gist.githubusercontent.com/yifancui/e1d5ce0ba59ba0c275c0e2efed542a37/raw/dde7dbca24429542ff78964b83aaf064142dd771/data.csv\")"
   ]
  },
  {
   "cell_type": "code",
   "execution_count": 51,
   "id": "bd77d4d1",
   "metadata": {},
   "outputs": [
    {
     "data": {
      "text/plain": [
       "(214, 11)"
      ]
     },
     "execution_count": 51,
     "metadata": {},
     "output_type": "execute_result"
    }
   ],
   "source": [
    "df.shape"
   ]
  },
  {
   "cell_type": "code",
   "execution_count": 53,
   "id": "29efd8a9",
   "metadata": {},
   "outputs": [
    {
     "data": {
      "text/html": [
       "<div>\n",
       "<style scoped>\n",
       "    .dataframe tbody tr th:only-of-type {\n",
       "        vertical-align: middle;\n",
       "    }\n",
       "\n",
       "    .dataframe tbody tr th {\n",
       "        vertical-align: top;\n",
       "    }\n",
       "\n",
       "    .dataframe thead th {\n",
       "        text-align: right;\n",
       "    }\n",
       "</style>\n",
       "<table border=\"1\" class=\"dataframe\">\n",
       "  <thead>\n",
       "    <tr style=\"text-align: right;\">\n",
       "      <th></th>\n",
       "      <th>Id number</th>\n",
       "      <th>RI</th>\n",
       "      <th>Na</th>\n",
       "      <th>Mg</th>\n",
       "      <th>Al</th>\n",
       "      <th>Si</th>\n",
       "      <th>K</th>\n",
       "      <th>Ca</th>\n",
       "      <th>Ba</th>\n",
       "      <th>Fe</th>\n",
       "      <th>Type of glass</th>\n",
       "    </tr>\n",
       "  </thead>\n",
       "  <tbody>\n",
       "    <tr>\n",
       "      <th>0</th>\n",
       "      <td>1</td>\n",
       "      <td>1.52101</td>\n",
       "      <td>13.64</td>\n",
       "      <td>4.49</td>\n",
       "      <td>1.10</td>\n",
       "      <td>71.78</td>\n",
       "      <td>0.06</td>\n",
       "      <td>8.75</td>\n",
       "      <td>0.0</td>\n",
       "      <td>0.0</td>\n",
       "      <td>1</td>\n",
       "    </tr>\n",
       "    <tr>\n",
       "      <th>1</th>\n",
       "      <td>2</td>\n",
       "      <td>1.51761</td>\n",
       "      <td>13.89</td>\n",
       "      <td>3.60</td>\n",
       "      <td>1.36</td>\n",
       "      <td>72.73</td>\n",
       "      <td>0.48</td>\n",
       "      <td>7.83</td>\n",
       "      <td>0.0</td>\n",
       "      <td>0.0</td>\n",
       "      <td>1</td>\n",
       "    </tr>\n",
       "    <tr>\n",
       "      <th>2</th>\n",
       "      <td>3</td>\n",
       "      <td>1.51618</td>\n",
       "      <td>13.53</td>\n",
       "      <td>3.55</td>\n",
       "      <td>1.54</td>\n",
       "      <td>72.99</td>\n",
       "      <td>0.39</td>\n",
       "      <td>7.78</td>\n",
       "      <td>0.0</td>\n",
       "      <td>0.0</td>\n",
       "      <td>1</td>\n",
       "    </tr>\n",
       "    <tr>\n",
       "      <th>3</th>\n",
       "      <td>4</td>\n",
       "      <td>1.51766</td>\n",
       "      <td>13.21</td>\n",
       "      <td>3.69</td>\n",
       "      <td>1.29</td>\n",
       "      <td>72.61</td>\n",
       "      <td>0.57</td>\n",
       "      <td>8.22</td>\n",
       "      <td>0.0</td>\n",
       "      <td>0.0</td>\n",
       "      <td>1</td>\n",
       "    </tr>\n",
       "    <tr>\n",
       "      <th>4</th>\n",
       "      <td>5</td>\n",
       "      <td>1.51742</td>\n",
       "      <td>13.27</td>\n",
       "      <td>3.62</td>\n",
       "      <td>1.24</td>\n",
       "      <td>73.08</td>\n",
       "      <td>0.55</td>\n",
       "      <td>8.07</td>\n",
       "      <td>0.0</td>\n",
       "      <td>0.0</td>\n",
       "      <td>1</td>\n",
       "    </tr>\n",
       "  </tbody>\n",
       "</table>\n",
       "</div>"
      ],
      "text/plain": [
       "   Id number       RI     Na    Mg    Al     Si     K    Ca   Ba   Fe  \\\n",
       "0          1  1.52101  13.64  4.49  1.10  71.78  0.06  8.75  0.0  0.0   \n",
       "1          2  1.51761  13.89  3.60  1.36  72.73  0.48  7.83  0.0  0.0   \n",
       "2          3  1.51618  13.53  3.55  1.54  72.99  0.39  7.78  0.0  0.0   \n",
       "3          4  1.51766  13.21  3.69  1.29  72.61  0.57  8.22  0.0  0.0   \n",
       "4          5  1.51742  13.27  3.62  1.24  73.08  0.55  8.07  0.0  0.0   \n",
       "\n",
       "   Type of glass  \n",
       "0              1  \n",
       "1              1  \n",
       "2              1  \n",
       "3              1  \n",
       "4              1  "
      ]
     },
     "execution_count": 53,
     "metadata": {},
     "output_type": "execute_result"
    }
   ],
   "source": [
    "df.head()"
   ]
  },
  {
   "cell_type": "code",
   "execution_count": 56,
   "id": "59eef5bf",
   "metadata": {},
   "outputs": [],
   "source": [
    "df=df.drop([\"Id number\",\"Type of glass\"],axis=1)  #droping since these features are not important."
   ]
  },
  {
   "cell_type": "code",
   "execution_count": 57,
   "id": "0062f1b5",
   "metadata": {},
   "outputs": [
    {
     "data": {
      "text/html": [
       "<div>\n",
       "<style scoped>\n",
       "    .dataframe tbody tr th:only-of-type {\n",
       "        vertical-align: middle;\n",
       "    }\n",
       "\n",
       "    .dataframe tbody tr th {\n",
       "        vertical-align: top;\n",
       "    }\n",
       "\n",
       "    .dataframe thead th {\n",
       "        text-align: right;\n",
       "    }\n",
       "</style>\n",
       "<table border=\"1\" class=\"dataframe\">\n",
       "  <thead>\n",
       "    <tr style=\"text-align: right;\">\n",
       "      <th></th>\n",
       "      <th>RI</th>\n",
       "      <th>Na</th>\n",
       "      <th>Mg</th>\n",
       "      <th>Al</th>\n",
       "      <th>Si</th>\n",
       "      <th>K</th>\n",
       "      <th>Ca</th>\n",
       "      <th>Ba</th>\n",
       "      <th>Fe</th>\n",
       "    </tr>\n",
       "  </thead>\n",
       "  <tbody>\n",
       "    <tr>\n",
       "      <th>0</th>\n",
       "      <td>1.52101</td>\n",
       "      <td>13.64</td>\n",
       "      <td>4.49</td>\n",
       "      <td>1.10</td>\n",
       "      <td>71.78</td>\n",
       "      <td>0.06</td>\n",
       "      <td>8.75</td>\n",
       "      <td>0.0</td>\n",
       "      <td>0.0</td>\n",
       "    </tr>\n",
       "    <tr>\n",
       "      <th>1</th>\n",
       "      <td>1.51761</td>\n",
       "      <td>13.89</td>\n",
       "      <td>3.60</td>\n",
       "      <td>1.36</td>\n",
       "      <td>72.73</td>\n",
       "      <td>0.48</td>\n",
       "      <td>7.83</td>\n",
       "      <td>0.0</td>\n",
       "      <td>0.0</td>\n",
       "    </tr>\n",
       "    <tr>\n",
       "      <th>2</th>\n",
       "      <td>1.51618</td>\n",
       "      <td>13.53</td>\n",
       "      <td>3.55</td>\n",
       "      <td>1.54</td>\n",
       "      <td>72.99</td>\n",
       "      <td>0.39</td>\n",
       "      <td>7.78</td>\n",
       "      <td>0.0</td>\n",
       "      <td>0.0</td>\n",
       "    </tr>\n",
       "    <tr>\n",
       "      <th>3</th>\n",
       "      <td>1.51766</td>\n",
       "      <td>13.21</td>\n",
       "      <td>3.69</td>\n",
       "      <td>1.29</td>\n",
       "      <td>72.61</td>\n",
       "      <td>0.57</td>\n",
       "      <td>8.22</td>\n",
       "      <td>0.0</td>\n",
       "      <td>0.0</td>\n",
       "    </tr>\n",
       "    <tr>\n",
       "      <th>4</th>\n",
       "      <td>1.51742</td>\n",
       "      <td>13.27</td>\n",
       "      <td>3.62</td>\n",
       "      <td>1.24</td>\n",
       "      <td>73.08</td>\n",
       "      <td>0.55</td>\n",
       "      <td>8.07</td>\n",
       "      <td>0.0</td>\n",
       "      <td>0.0</td>\n",
       "    </tr>\n",
       "  </tbody>\n",
       "</table>\n",
       "</div>"
      ],
      "text/plain": [
       "        RI     Na    Mg    Al     Si     K    Ca   Ba   Fe\n",
       "0  1.52101  13.64  4.49  1.10  71.78  0.06  8.75  0.0  0.0\n",
       "1  1.51761  13.89  3.60  1.36  72.73  0.48  7.83  0.0  0.0\n",
       "2  1.51618  13.53  3.55  1.54  72.99  0.39  7.78  0.0  0.0\n",
       "3  1.51766  13.21  3.69  1.29  72.61  0.57  8.22  0.0  0.0\n",
       "4  1.51742  13.27  3.62  1.24  73.08  0.55  8.07  0.0  0.0"
      ]
     },
     "execution_count": 57,
     "metadata": {},
     "output_type": "execute_result"
    }
   ],
   "source": [
    "df.head()"
   ]
  },
  {
   "cell_type": "code",
   "execution_count": 58,
   "id": "12e05c11",
   "metadata": {},
   "outputs": [],
   "source": [
    "#Scaling the wine dataset\n",
    "\n",
    "from sklearn.preprocessing import StandardScaler\n",
    "scaler=StandardScaler()"
   ]
  },
  {
   "cell_type": "code",
   "execution_count": 60,
   "id": "889af573",
   "metadata": {},
   "outputs": [],
   "source": [
    "scaled_df=scaler.fit_transform(df)"
   ]
  },
  {
   "cell_type": "code",
   "execution_count": 61,
   "id": "64dada97",
   "metadata": {},
   "outputs": [
    {
     "data": {
      "text/plain": [
       "array([[ 0.87286765,  0.28495326,  1.25463857, ..., -0.14576634,\n",
       "        -0.35287683, -0.5864509 ],\n",
       "       [-0.24933347,  0.59181718,  0.63616803, ..., -0.79373376,\n",
       "        -0.35287683, -0.5864509 ],\n",
       "       [-0.72131806,  0.14993314,  0.60142249, ..., -0.82894938,\n",
       "        -0.35287683, -0.5864509 ],\n",
       "       ...,\n",
       "       [ 0.75404635,  1.16872135, -1.86551055, ..., -0.36410319,\n",
       "         2.95320036, -0.5864509 ],\n",
       "       [-0.61239854,  1.19327046, -1.86551055, ..., -0.33593069,\n",
       "         2.81208731, -0.5864509 ],\n",
       "       [-0.41436305,  1.00915211, -1.86551055, ..., -0.23732695,\n",
       "         3.01367739, -0.5864509 ]])"
      ]
     },
     "execution_count": 61,
     "metadata": {},
     "output_type": "execute_result"
    }
   ],
   "source": [
    "scaled_df  #Scaled wine dataset"
   ]
  },
  {
   "cell_type": "code",
   "execution_count": 63,
   "id": "264efe85",
   "metadata": {},
   "outputs": [],
   "source": [
    "#Applying the PCA over the scaled dataset\n",
    "\n",
    "pca1=PCA()\n",
    "pca_data=pca1.fit_transform(scaled_df)"
   ]
  },
  {
   "cell_type": "code",
   "execution_count": 64,
   "id": "72295f01",
   "metadata": {},
   "outputs": [
    {
     "data": {
      "text/html": [
       "<div>\n",
       "<style scoped>\n",
       "    .dataframe tbody tr th:only-of-type {\n",
       "        vertical-align: middle;\n",
       "    }\n",
       "\n",
       "    .dataframe tbody tr th {\n",
       "        vertical-align: top;\n",
       "    }\n",
       "\n",
       "    .dataframe thead th {\n",
       "        text-align: right;\n",
       "    }\n",
       "</style>\n",
       "<table border=\"1\" class=\"dataframe\">\n",
       "  <thead>\n",
       "    <tr style=\"text-align: right;\">\n",
       "      <th></th>\n",
       "      <th>0</th>\n",
       "      <th>1</th>\n",
       "      <th>2</th>\n",
       "      <th>3</th>\n",
       "      <th>4</th>\n",
       "      <th>5</th>\n",
       "      <th>6</th>\n",
       "      <th>7</th>\n",
       "      <th>8</th>\n",
       "    </tr>\n",
       "  </thead>\n",
       "  <tbody>\n",
       "    <tr>\n",
       "      <th>0</th>\n",
       "      <td>1.151140</td>\n",
       "      <td>-0.529488</td>\n",
       "      <td>-0.372096</td>\n",
       "      <td>1.728901</td>\n",
       "      <td>-0.251936</td>\n",
       "      <td>0.340210</td>\n",
       "      <td>-0.395600</td>\n",
       "      <td>-0.197160</td>\n",
       "      <td>0.016346</td>\n",
       "    </tr>\n",
       "    <tr>\n",
       "      <th>1</th>\n",
       "      <td>-0.574137</td>\n",
       "      <td>-0.759788</td>\n",
       "      <td>-0.556708</td>\n",
       "      <td>0.760232</td>\n",
       "      <td>-0.257071</td>\n",
       "      <td>-0.115960</td>\n",
       "      <td>-0.024158</td>\n",
       "      <td>-0.284214</td>\n",
       "      <td>-0.010790</td>\n",
       "    </tr>\n",
       "    <tr>\n",
       "      <th>2</th>\n",
       "      <td>-0.940160</td>\n",
       "      <td>-0.929836</td>\n",
       "      <td>-0.554907</td>\n",
       "      <td>0.206254</td>\n",
       "      <td>-0.237506</td>\n",
       "      <td>0.126630</td>\n",
       "      <td>-0.367518</td>\n",
       "      <td>-0.095941</td>\n",
       "      <td>0.021640</td>\n",
       "    </tr>\n",
       "    <tr>\n",
       "      <th>3</th>\n",
       "      <td>-0.142083</td>\n",
       "      <td>-0.961677</td>\n",
       "      <td>-0.117125</td>\n",
       "      <td>0.415724</td>\n",
       "      <td>-0.476299</td>\n",
       "      <td>0.285805</td>\n",
       "      <td>-0.052497</td>\n",
       "      <td>-0.002959</td>\n",
       "      <td>0.092035</td>\n",
       "    </tr>\n",
       "    <tr>\n",
       "      <th>4</th>\n",
       "      <td>-0.351092</td>\n",
       "      <td>-1.091249</td>\n",
       "      <td>-0.485079</td>\n",
       "      <td>0.069102</td>\n",
       "      <td>-0.432090</td>\n",
       "      <td>0.298032</td>\n",
       "      <td>0.158570</td>\n",
       "      <td>-0.191316</td>\n",
       "      <td>0.002315</td>\n",
       "    </tr>\n",
       "    <tr>\n",
       "      <th>...</th>\n",
       "      <td>...</td>\n",
       "      <td>...</td>\n",
       "      <td>...</td>\n",
       "      <td>...</td>\n",
       "      <td>...</td>\n",
       "      <td>...</td>\n",
       "      <td>...</td>\n",
       "      <td>...</td>\n",
       "      <td>...</td>\n",
       "    </tr>\n",
       "    <tr>\n",
       "      <th>209</th>\n",
       "      <td>-2.383835</td>\n",
       "      <td>3.061677</td>\n",
       "      <td>0.090445</td>\n",
       "      <td>-0.376611</td>\n",
       "      <td>0.103227</td>\n",
       "      <td>0.231162</td>\n",
       "      <td>-1.320186</td>\n",
       "      <td>0.189401</td>\n",
       "      <td>-0.028657</td>\n",
       "    </tr>\n",
       "    <tr>\n",
       "      <th>210</th>\n",
       "      <td>-2.397652</td>\n",
       "      <td>3.108236</td>\n",
       "      <td>-1.117502</td>\n",
       "      <td>0.288454</td>\n",
       "      <td>0.624723</td>\n",
       "      <td>0.618056</td>\n",
       "      <td>0.582361</td>\n",
       "      <td>0.131651</td>\n",
       "      <td>-0.013663</td>\n",
       "    </tr>\n",
       "    <tr>\n",
       "      <th>211</th>\n",
       "      <td>-1.680246</td>\n",
       "      <td>3.284823</td>\n",
       "      <td>-0.930349</td>\n",
       "      <td>-0.171014</td>\n",
       "      <td>0.451687</td>\n",
       "      <td>1.247320</td>\n",
       "      <td>0.674122</td>\n",
       "      <td>-0.891710</td>\n",
       "      <td>0.046284</td>\n",
       "    </tr>\n",
       "    <tr>\n",
       "      <th>212</th>\n",
       "      <td>-2.369748</td>\n",
       "      <td>2.756873</td>\n",
       "      <td>-1.234701</td>\n",
       "      <td>-0.525285</td>\n",
       "      <td>0.515008</td>\n",
       "      <td>1.003352</td>\n",
       "      <td>0.678899</td>\n",
       "      <td>0.074460</td>\n",
       "      <td>-0.027301</td>\n",
       "    </tr>\n",
       "    <tr>\n",
       "      <th>213</th>\n",
       "      <td>-2.262649</td>\n",
       "      <td>3.028592</td>\n",
       "      <td>-0.890845</td>\n",
       "      <td>-0.414491</td>\n",
       "      <td>0.505474</td>\n",
       "      <td>1.213617</td>\n",
       "      <td>0.462461</td>\n",
       "      <td>0.063315</td>\n",
       "      <td>-0.019450</td>\n",
       "    </tr>\n",
       "  </tbody>\n",
       "</table>\n",
       "<p>214 rows × 9 columns</p>\n",
       "</div>"
      ],
      "text/plain": [
       "            0         1         2         3         4         5         6  \\\n",
       "0    1.151140 -0.529488 -0.372096  1.728901 -0.251936  0.340210 -0.395600   \n",
       "1   -0.574137 -0.759788 -0.556708  0.760232 -0.257071 -0.115960 -0.024158   \n",
       "2   -0.940160 -0.929836 -0.554907  0.206254 -0.237506  0.126630 -0.367518   \n",
       "3   -0.142083 -0.961677 -0.117125  0.415724 -0.476299  0.285805 -0.052497   \n",
       "4   -0.351092 -1.091249 -0.485079  0.069102 -0.432090  0.298032  0.158570   \n",
       "..        ...       ...       ...       ...       ...       ...       ...   \n",
       "209 -2.383835  3.061677  0.090445 -0.376611  0.103227  0.231162 -1.320186   \n",
       "210 -2.397652  3.108236 -1.117502  0.288454  0.624723  0.618056  0.582361   \n",
       "211 -1.680246  3.284823 -0.930349 -0.171014  0.451687  1.247320  0.674122   \n",
       "212 -2.369748  2.756873 -1.234701 -0.525285  0.515008  1.003352  0.678899   \n",
       "213 -2.262649  3.028592 -0.890845 -0.414491  0.505474  1.213617  0.462461   \n",
       "\n",
       "            7         8  \n",
       "0   -0.197160  0.016346  \n",
       "1   -0.284214 -0.010790  \n",
       "2   -0.095941  0.021640  \n",
       "3   -0.002959  0.092035  \n",
       "4   -0.191316  0.002315  \n",
       "..        ...       ...  \n",
       "209  0.189401 -0.028657  \n",
       "210  0.131651 -0.013663  \n",
       "211 -0.891710  0.046284  \n",
       "212  0.074460 -0.027301  \n",
       "213  0.063315 -0.019450  \n",
       "\n",
       "[214 rows x 9 columns]"
      ]
     },
     "execution_count": 64,
     "metadata": {},
     "output_type": "execute_result"
    }
   ],
   "source": [
    "pd.DataFrame(pca_data)\n",
    "\n",
    "#Here each column represent a Principal component having escence of whole dataset"
   ]
  },
  {
   "cell_type": "code",
   "execution_count": 66,
   "id": "1cdd7fe5",
   "metadata": {},
   "outputs": [
    {
     "data": {
      "text/plain": [
       "array([2.79018192e-01, 2.27785798e-01, 1.56093777e-01, 1.28651383e-01,\n",
       "       1.01555805e-01, 5.86261325e-02, 4.09953826e-02, 7.09477197e-03,\n",
       "       1.78757536e-04])"
      ]
     },
     "execution_count": 66,
     "metadata": {},
     "output_type": "execute_result"
    }
   ],
   "source": [
    "pca1.explained_variance_ratio_\n",
    "#Generating the explained_variance_ratio_ for all the principal components"
   ]
  },
  {
   "cell_type": "code",
   "execution_count": 67,
   "id": "8d71084e",
   "metadata": {},
   "outputs": [
    {
     "data": {
      "text/plain": [
       "0.2790181917945643"
      ]
     },
     "execution_count": 67,
     "metadata": {},
     "output_type": "execute_result"
    }
   ],
   "source": [
    "max(pca1.explained_variance_ratio_)\n",
    "#Generating max explained_variance_ratio_"
   ]
  },
  {
   "cell_type": "code",
   "execution_count": 68,
   "id": "ba603af0",
   "metadata": {},
   "outputs": [
    {
     "data": {
      "text/plain": [
       "0.00017875753590172464"
      ]
     },
     "execution_count": 68,
     "metadata": {},
     "output_type": "execute_result"
    }
   ],
   "source": [
    "min(pca1.explained_variance_ratio_)\n",
    "#Generating min explained_variance_ratio_"
   ]
  },
  {
   "cell_type": "code",
   "execution_count": 69,
   "id": "d0912fad",
   "metadata": {
    "scrolled": true
   },
   "outputs": [
    {
     "data": {
      "text/plain": [
       "0.9999999999999998"
      ]
     },
     "execution_count": 69,
     "metadata": {},
     "output_type": "execute_result"
    }
   ],
   "source": [
    "sum(pca1.explained_variance_ratio_)\n",
    "\n",
    "#Sum of all the explained_variance_ratio_ is close to 1 repesentinf along 100% coverage of the\n",
    "#data distribution for the given wine dataset. There is very minimal data loss of\n",
    "#0.0000000000000002 or 0.00000000000002%"
   ]
  },
  {
   "cell_type": "code",
   "execution_count": 76,
   "id": "93f51afd",
   "metadata": {},
   "outputs": [
    {
     "data": {
      "text/plain": [
       "[0.00017875753590172464,\n",
       " 0.007094771974823571,\n",
       " 0.040995382590555844,\n",
       " 0.05862613252208679,\n",
       " 0.10155580523615625,\n",
       " 0.12865138291980255,\n",
       " 0.15609377710940472,\n",
       " 0.22778579831670412,\n",
       " 0.2790181917945643]"
      ]
     },
     "execution_count": 76,
     "metadata": {},
     "output_type": "execute_result"
    }
   ],
   "source": [
    "sorted(pca1.explained_variance_ratio_)\n",
    "#using sorted to arrange the explained_variance_ratio_ in the ascending order"
   ]
  },
  {
   "cell_type": "code",
   "execution_count": 78,
   "id": "a78be3db",
   "metadata": {},
   "outputs": [
    {
     "data": {
      "text/plain": [
       "[0.2790181917945643,\n",
       " 0.22778579831670412,\n",
       " 0.15609377710940472,\n",
       " 0.12865138291980255,\n",
       " 0.10155580523615625,\n",
       " 0.05862613252208679,\n",
       " 0.040995382590555844,\n",
       " 0.007094771974823571,\n",
       " 0.00017875753590172464]"
      ]
     },
     "execution_count": 78,
     "metadata": {},
     "output_type": "execute_result"
    }
   ],
   "source": [
    "sorted(pca1.explained_variance_ratio_,reverse=True)\n",
    "#Displaying explained_variance_ratio_ in the descending order"
   ]
  },
  {
   "cell_type": "markdown",
   "id": "f685b764",
   "metadata": {},
   "source": [
    "# Below we will understand how to find the optimal number of Principal components in case we are provided with multiple principal components using the cummulative sum of components that represents or provides coverage of maximum data distribution for the given dataset"
   ]
  },
  {
   "cell_type": "code",
   "execution_count": 81,
   "id": "55162813",
   "metadata": {},
   "outputs": [
    {
     "data": {
      "text/plain": [
       "95.17310878987188"
      ]
     },
     "execution_count": 81,
     "metadata": {},
     "output_type": "execute_result"
    }
   ],
   "source": [
    "#from the entire data we are extracting 95% info\n",
    "sum(sorted(pca1.explained_variance_ratio_,reverse=True)[:6])*100\n",
    "\n",
    "#Top 6 features provided 95.17% coverage"
   ]
  },
  {
   "cell_type": "code",
   "execution_count": 80,
   "id": "88ac4026",
   "metadata": {},
   "outputs": [
    {
     "data": {
      "text/plain": [
       "99.27264704892745"
      ]
     },
     "execution_count": 80,
     "metadata": {},
     "output_type": "execute_result"
    }
   ],
   "source": [
    "#from the entire data we are extracting 99% info\n",
    "sum(sorted(pca1.explained_variance_ratio_,reverse=True)[:7])*100\n",
    "\n",
    "#Top 7 features provided 99.27% coverage"
   ]
  },
  {
   "cell_type": "code",
   "execution_count": 82,
   "id": "869d4a19",
   "metadata": {},
   "outputs": [],
   "source": [
    "var=pca1.explained_variance_ratio_"
   ]
  },
  {
   "cell_type": "code",
   "execution_count": 83,
   "id": "53f7c27b",
   "metadata": {},
   "outputs": [
    {
     "data": {
      "text/plain": [
       "array([2.79018192e-01, 2.27785798e-01, 1.56093777e-01, 1.28651383e-01,\n",
       "       1.01555805e-01, 5.86261325e-02, 4.09953826e-02, 7.09477197e-03,\n",
       "       1.78757536e-04])"
      ]
     },
     "execution_count": 83,
     "metadata": {},
     "output_type": "execute_result"
    }
   ],
   "source": [
    "var"
   ]
  },
  {
   "cell_type": "code",
   "execution_count": 85,
   "id": "ac837c40",
   "metadata": {},
   "outputs": [
    {
     "data": {
      "text/plain": [
       "array([0.27901819, 0.50680399, 0.66289777, 0.79154915, 0.89310496,\n",
       "       0.95173109, 0.99272647, 0.99982124, 1.        ])"
      ]
     },
     "execution_count": 85,
     "metadata": {},
     "output_type": "execute_result"
    }
   ],
   "source": [
    "np.cumsum(var)\n",
    "\n",
    "#Eg; l = [1,2,3,4]\n",
    "#then np.cumsum(l) will return [1,(1+2), (1+2+3), (1+2+3+4)] that is [1,3,6,10]\n",
    "\n",
    "#Generating the cummulative sum of explained_variance_ratio_ arranged in descending order.\n",
    "\n",
    "#VV Imporat point\n",
    "#Please note that here we are finding the cummulative summation after arranging the \n",
    "#explained_variance_ratio_ in descending order(just obeserve the below o/p and it will be clear)"
   ]
  },
  {
   "cell_type": "code",
   "execution_count": 86,
   "id": "bdd99f87",
   "metadata": {},
   "outputs": [
    {
     "data": {
      "image/png": "[encoded data removed]",
      "text/plain": [
       "<Figure size 432x288 with 1 Axes>"
      ]
     },
     "metadata": {
      "needs_background": "light"
     },
     "output_type": "display_data"
    }
   ],
   "source": [
    "#Visualizing the cumulative summation plot thus formed\n",
    "\n",
    "plt.plot(np.cumsum(var))\n",
    "plt.show()"
   ]
  },
  {
   "cell_type": "markdown",
   "id": "e7ff5124",
   "metadata": {},
   "source": [
    "# Please note: that above cumsum() plot is obtained after arranging the explained_varaince_ratio_ in DESCENDING order\n",
    "\n",
    "# 1. From the above cumsum plot it is clear that after 6th index there is no significant increament in the cummulative explained_variance_ratio_ since beyond this point there is flatening observed in the graph. \n",
    "\n",
    "# 2. Therefore,  for the current wine dataset we should take Principal Components upto 6th respective indexes and these Principal Components will be treated as features of transformed dataset having the escence of original dataset which will be then used for building the learning models.\n",
    "\n",
    "# 3. To summarize we will take these Principal Components: PC2,PC3,PC4,PC5,PC6,PC7,PC8 as the features for transformed dataset and will built our ML model on top of this transformed dataset.\n",
    "\n",
    "# 4. Also, in the process we have removed Principal Components: PC0 and PC1 from the resultant transformed dataset. This is how dimensionality reduction is performed using the PCA approach"
   ]
  },
  {
   "cell_type": "markdown",
   "id": "aed64b83",
   "metadata": {},
   "source": [
    "# =========================================\n",
    "# Some Important pointers:\n",
    " - While training the model we will be providing the PCA transformed dataset and while prediction we will first of all tranform new data on which prediction needs to be made into PCA transformed data and then use the existing learning model (trained over PCA transfored train dataset) to carry out the prediction.\n",
    " \n",
    " - Means for any new data set that is not the part of the test split of exisiting dataset then we need to prepare a data pipeline that we convert this new data in PCA transformed data which will be then passed to the model for carrying out the prediction.\n",
    " \n",
    " - Again please note PCA is applicable only for numerical colums and not for categorical columns. Even if we are transforming categorical col into numeric using encoding techniques then it will generate sparse matrix(0s and 1s) which can not be taken forward for PCA.\n",
    " \n",
    " - In case dataset have many features with most of them being numeric and some of them being categorical then apply, PCA on only numerical features and generate respective PCA transformed dataset for numerical features followed by encoding only categorical features. At last just combine the PCA transformed features with encoded categorical features to generate the resultant dataset on top of which ML models can be trained.\n",
    "\n",
    " - In Feature Selection we are taking the subset of the features whereas, in Feature Extraction we are producing vector having essence of whole dataset with all the features"
   ]
  },
  {
   "cell_type": "code",
   "execution_count": null,
   "id": "043669d2",
   "metadata": {},
   "outputs": [],
   "source": []
  }
 ],
 "metadata": {
  "kernelspec": {
   "display_name": "Python 3 (ipykernel)",
   "language": "python",
   "name": "python3"
  },
  "language_info": {
   "codemirror_mode": {
    "name": "ipython",
    "version": 3
   },
   "file_extension": ".py",
   "mimetype": "text/x-python",
   "name": "python",
   "nbconvert_exporter": "python",
   "pygments_lexer": "ipython3",
   "version": "3.10.9"
  }
 },
 "nbformat": 4,
 "nbformat_minor": 5
}
